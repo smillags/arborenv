{
 "cells": [
  {
   "cell_type": "code",
   "execution_count": 12,
   "metadata": {},
   "outputs": [],
   "source": [
    "import pandas as pd\n",
    "import geopandas as gpd\n",
    "from shapely.geometry import Point"
   ]
  },
  {
   "cell_type": "code",
   "execution_count": 13,
   "metadata": {},
   "outputs": [],
   "source": [
    "tree = pd.read_csv('tree.csv')"
   ]
  },
  {
   "cell_type": "code",
   "execution_count": 14,
   "metadata": {},
   "outputs": [
    {
     "name": "stdout",
     "output_type": "stream",
     "text": [
      "Tree Shape: (51156, 16)\n"
     ]
    }
   ],
   "source": [
    "# Display the shape of sampled datasets\n",
    "print(f'Tree Shape: {tree.shape}')\n"
   ]
  },
  {
   "cell_type": "code",
   "execution_count": 15,
   "metadata": {},
   "outputs": [
    {
     "name": "stdout",
     "output_type": "stream",
     "text": [
      "Columns in Tree Inventory Data:\n",
      "Index(['_id', 'OBJECTID', 'STRUCTID', 'ADDRESS', 'STREETNAME', 'CROSSSTREET1',\n",
      "       'CROSSSTREET2', 'SUFFIX', 'UNIT_NUMBER', 'TREE_POSITION_NUMBER', 'SITE',\n",
      "       'WARD', 'BOTANICAL_NAME', 'COMMON_NAME', 'DBH_TRUNK', 'geometry'],\n",
      "      dtype='object')\n",
      "\n",
      "First few rows of Tree Inventory Data:\n",
      "   _id  OBJECTID  STRUCTID  ADDRESS            STREETNAME       CROSSSTREET1  \\\n",
      "0    1         1  TO105087      145  ST GEORGE ST TORONTO  PRINCE ARTHUR AVE   \n",
      "1   34        35   TO18965      330            CLINTON ST    NANCY POCOCK PL   \n",
      "2   37        38   TO16750      161          CHAPLIN CRES          AVENUE RD   \n",
      "3   48        49   TO37844     1669          GERRARD ST E    GAINSBOROUGH RD   \n",
      "4   64        65   TO16574        9           CHANNEL AVE                NaN   \n",
      "\n",
      "  CROSSSTREET2 SUFFIX  UNIT_NUMBER  TREE_POSITION_NUMBER SITE  WARD  \\\n",
      "0  LOWTHER AVE    NaN            0                  30.0  NaN  11.0   \n",
      "1   CLINTON PL    NaN            0                  10.0  NaN  11.0   \n",
      "2  BRAEMAR AVE    NaN            0                  10.0  NaN  12.0   \n",
      "3   WEMBLEY DR    NaN            0                  10.0  NaN  19.0   \n",
      "4          NaN    NaN            0                  10.0  NaN  10.0   \n",
      "\n",
      "          BOTANICAL_NAME    COMMON_NAME  DBH_TRUNK  \\\n",
      "0  Gleditsia triacanthos   Honey locust       19.0   \n",
      "1       Acer platanoides  Maple, Norway       72.0   \n",
      "2      Betula papyrifera   Birch, white       45.0   \n",
      "3                  Tilia         Linden       61.0   \n",
      "4               Fraxinus            Ash       44.0   \n",
      "\n",
      "                                            geometry  \n",
      "0  {\"type\": \"Point\", \"coordinates\": [-79.40031615...  \n",
      "1  {\"type\": \"Point\", \"coordinates\": [-79.41687449...  \n",
      "2  {\"type\": \"Point\", \"coordinates\": [-79.40731236...  \n",
      "3  {\"type\": \"Point\", \"coordinates\": [-79.31830349...  \n",
      "4  {\"type\": \"Point\", \"coordinates\": [-79.35499777...  \n"
     ]
    }
   ],
   "source": [
    "# Display columns for each dataset\n",
    "print(\"Columns in Tree Inventory Data:\")\n",
    "print(tree.columns)\n",
    "\n",
    "\n",
    "\n",
    "\n",
    "\n",
    "# Display the first few rows of each dataset for context\n",
    "print(\"\\nFirst few rows of Tree Inventory Data:\")\n",
    "print(tree.head())\n",
    "\n",
    "\n"
   ]
  },
  {
   "cell_type": "code",
   "execution_count": 16,
   "metadata": {},
   "outputs": [
    {
     "data": {
      "text/plain": [
       "Index(['_id', 'OBJECTID', 'STRUCTID', 'ADDRESS', 'STREETNAME', 'CROSSSTREET1',\n",
       "       'CROSSSTREET2', 'SUFFIX', 'UNIT_NUMBER', 'TREE_POSITION_NUMBER', 'SITE',\n",
       "       'WARD', 'BOTANICAL_NAME', 'COMMON_NAME', 'DBH_TRUNK', 'geometry'],\n",
       "      dtype='object')"
      ]
     },
     "execution_count": 16,
     "metadata": {},
     "output_type": "execute_result"
    }
   ],
   "source": [
    "tree.columns"
   ]
  },
  {
   "cell_type": "code",
   "execution_count": 17,
   "metadata": {},
   "outputs": [
    {
     "data": {
      "text/plain": [
       "_id                         0\n",
       "OBJECTID                    0\n",
       "STRUCTID                    0\n",
       "ADDRESS                     0\n",
       "STREETNAME                  1\n",
       "CROSSSTREET1             1574\n",
       "CROSSSTREET2             2500\n",
       "SUFFIX                  50749\n",
       "UNIT_NUMBER                 0\n",
       "TREE_POSITION_NUMBER        4\n",
       "SITE                    49043\n",
       "WARD                        1\n",
       "BOTANICAL_NAME              0\n",
       "COMMON_NAME                 0\n",
       "DBH_TRUNK                   1\n",
       "geometry                    0\n",
       "dtype: int64"
      ]
     },
     "execution_count": 17,
     "metadata": {},
     "output_type": "execute_result"
    }
   ],
   "source": [
    "tree.isnull().sum()"
   ]
  },
  {
   "cell_type": "code",
   "execution_count": 18,
   "metadata": {},
   "outputs": [],
   "source": [
    "tree_cleaned = tree.drop(columns=['SUFFIX', 'SITE'])"
   ]
  },
  {
   "cell_type": "code",
   "execution_count": 19,
   "metadata": {},
   "outputs": [],
   "source": [
    "from sklearn.impute import SimpleImputer\n",
    "\n",
    "numerical_features = ['DBH_TRUNK']\n",
    "imputer = SimpleImputer(strategy='mean')\n",
    "tree_cleaned[numerical_features] = imputer.fit_transform(tree_cleaned[numerical_features])"
   ]
  },
  {
   "cell_type": "code",
   "execution_count": 20,
   "metadata": {},
   "outputs": [],
   "source": [
    "from sklearn.preprocessing import OneHotEncoder\n",
    "from sklearn.compose import ColumnTransformer\n",
    "\n",
    "# Fill missing values for categorical columns\n",
    "categorical_features = ['STREETNAME', 'CROSSSTREET1', 'CROSSSTREET2', 'UNIT_NUMBER', 'TREE_POSITION_NUMBER', 'WARD', 'BOTANICAL_NAME', 'COMMON_NAME']\n",
    "tree_cleaned[categorical_features] = tree_cleaned[categorical_features].fillna('Unknown')\n",
    "\n",
    "# Convert categorical columns to numerical using one-hot encoding\n",
    "preprocessor = ColumnTransformer(\n",
    "    transformers=[\n",
    "        ('num', SimpleImputer(strategy='mean'), numerical_features),\n",
    "        ('cat', OneHotEncoder(handle_unknown='ignore'), categorical_features)\n",
    "    ]\n",
    ")\n"
   ]
  },
  {
   "cell_type": "code",
   "execution_count": 21,
   "metadata": {},
   "outputs": [
    {
     "name": "stdout",
     "output_type": "stream",
     "text": [
      "Defaulting to user installation because normal site-packages is not writeable\n",
      "Requirement already satisfied: lazypredict in c:\\users\\nirup\\appdata\\roaming\\python\\python311\\site-packages (0.2.12)\n",
      "Requirement already satisfied: click in c:\\users\\nirup\\appdata\\roaming\\python\\python311\\site-packages (from lazypredict) (8.1.7)\n",
      "Requirement already satisfied: scikit-learn in c:\\users\\nirup\\appdata\\roaming\\python\\python311\\site-packages (from lazypredict) (1.5.1)\n",
      "Requirement already satisfied: pandas in c:\\users\\nirup\\appdata\\roaming\\python\\python311\\site-packages (from lazypredict) (2.1.2)\n",
      "Requirement already satisfied: tqdm in c:\\users\\nirup\\appdata\\roaming\\python\\python311\\site-packages (from lazypredict) (4.66.4)\n",
      "Requirement already satisfied: joblib in c:\\users\\nirup\\appdata\\roaming\\python\\python311\\site-packages (from lazypredict) (1.3.2)\n",
      "Requirement already satisfied: lightgbm in c:\\users\\nirup\\appdata\\roaming\\python\\python311\\site-packages (from lazypredict) (4.5.0)\n",
      "Requirement already satisfied: xgboost in c:\\users\\nirup\\appdata\\roaming\\python\\python311\\site-packages (from lazypredict) (2.1.0)\n",
      "Requirement already satisfied: colorama in c:\\users\\nirup\\appdata\\roaming\\python\\python311\\site-packages (from click->lazypredict) (0.4.6)\n",
      "Requirement already satisfied: numpy>=1.17.0 in c:\\users\\nirup\\appdata\\roaming\\python\\python311\\site-packages (from lightgbm->lazypredict) (1.26.1)\n",
      "Requirement already satisfied: scipy in c:\\users\\nirup\\appdata\\roaming\\python\\python311\\site-packages (from lightgbm->lazypredict) (1.11.3)\n",
      "Requirement already satisfied: python-dateutil>=2.8.2 in c:\\users\\nirup\\appdata\\roaming\\python\\python311\\site-packages (from pandas->lazypredict) (2.8.2)\n",
      "Requirement already satisfied: pytz>=2020.1 in c:\\users\\nirup\\appdata\\roaming\\python\\python311\\site-packages (from pandas->lazypredict) (2023.3.post1)\n",
      "Requirement already satisfied: tzdata>=2022.1 in c:\\users\\nirup\\appdata\\roaming\\python\\python311\\site-packages (from pandas->lazypredict) (2023.3)\n",
      "Requirement already satisfied: threadpoolctl>=3.1.0 in c:\\users\\nirup\\appdata\\roaming\\python\\python311\\site-packages (from scikit-learn->lazypredict) (3.2.0)\n",
      "Requirement already satisfied: six>=1.5 in c:\\users\\nirup\\appdata\\roaming\\python\\python311\\site-packages (from python-dateutil>=2.8.2->pandas->lazypredict) (1.16.0)\n",
      "Note: you may need to restart the kernel to use updated packages.\n"
     ]
    }
   ],
   "source": [
    "pip install lazypredict"
   ]
  },
  {
   "cell_type": "code",
   "execution_count": 22,
   "metadata": {},
   "outputs": [
    {
     "data": {
      "text/plain": [
       "Index(['_id', 'OBJECTID', 'STRUCTID', 'ADDRESS', 'STREETNAME', 'CROSSSTREET1',\n",
       "       'CROSSSTREET2', 'UNIT_NUMBER', 'TREE_POSITION_NUMBER', 'WARD',\n",
       "       'BOTANICAL_NAME', 'COMMON_NAME', 'DBH_TRUNK', 'geometry'],\n",
       "      dtype='object')"
      ]
     },
     "execution_count": 22,
     "metadata": {},
     "output_type": "execute_result"
    }
   ],
   "source": [
    "tree_cleaned.columns"
   ]
  },
  {
   "cell_type": "code",
   "execution_count": 23,
   "metadata": {},
   "outputs": [
    {
     "data": {
      "text/plain": [
       "DBH_TRUNK\n",
       "30.0     1871\n",
       "40.0     1506\n",
       "25.0     1419\n",
       "20.0     1406\n",
       "35.0     1277\n",
       "         ... \n",
       "190.0       1\n",
       "189.0       1\n",
       "154.0       1\n",
       "152.0       1\n",
       "540.0       1\n",
       "Name: count, Length: 174, dtype: int64"
      ]
     },
     "execution_count": 23,
     "metadata": {},
     "output_type": "execute_result"
    }
   ],
   "source": [
    "tree_cleaned.value_counts('DBH_TRUNK')"
   ]
  },
  {
   "cell_type": "code",
   "execution_count": 24,
   "metadata": {},
   "outputs": [],
   "source": [
    "tree['is_in_need'] = (tree['DBH_TRUNK'] < 50).astype(int)  \n",
    "\n",
    "# Prepare features and target\n",
    "X = tree.drop(columns=['_id', 'OBJECTID', 'STRUCTID', 'ADDRESS', 'STREETNAME', 'CROSSSTREET1', 'CROSSSTREET2', 'UNIT_NUMBER', 'TREE_POSITION_NUMBER', 'WARD', 'BOTANICAL_NAME', 'COMMON_NAME', 'DBH_TRUNK', 'geometry', 'is_in_need'])\n",
    "y = tree['is_in_need']"
   ]
  },
  {
   "cell_type": "code",
   "execution_count": 25,
   "metadata": {},
   "outputs": [],
   "source": [
    "import numpy as np\n",
    "tree['DBH_TRUNK_Squared'] = tree['DBH_TRUNK'] ** 2\n",
    "tree['DBH_TRUNK_Log'] = tree['DBH_TRUNK'].apply(lambda x: np.log(x + 1))\n",
    "tree['StreetName_Length'] = tree['STREETNAME'].apply(lambda x: len(str(x)) if pd.notnull(x) else 0)\n",
    "tree['Address_Has_CrossStreet'] = tree['CROSSSTREET1'].apply(lambda x: 1 if pd.notnull(x) else 0)\n",
    "\n",
    "ward_avg_dbh = tree.groupby('WARD')['DBH_TRUNK'].transform('mean')\n",
    "tree['Average_DBH_TRUNK_Per_Ward'] = ward_avg_dbh\n",
    "\n",
    "\n",
    "ward_tree_count = tree.groupby('WARD')['OBJECTID'].transform('count')\n",
    "tree['Number_of_Trees_Per_Ward'] = ward_tree_count\n",
    "\n",
    "\n",
    "tree['Tree_Position_Indicator'] = tree['TREE_POSITION_NUMBER'].apply(lambda x: 1 if x > 0 else 0)\n",
    "\n",
    "\n",
    "tree['DBH_TRUNK_X_Tree_Position'] = tree['DBH_TRUNK'] * tree['TREE_POSITION_NUMBER']"
   ]
  },
  {
   "cell_type": "code",
   "execution_count": 26,
   "metadata": {},
   "outputs": [
    {
     "data": {
      "text/plain": [
       "Index(['_id', 'OBJECTID', 'STRUCTID', 'ADDRESS', 'STREETNAME', 'CROSSSTREET1',\n",
       "       'CROSSSTREET2', 'SUFFIX', 'UNIT_NUMBER', 'TREE_POSITION_NUMBER', 'SITE',\n",
       "       'WARD', 'BOTANICAL_NAME', 'COMMON_NAME', 'DBH_TRUNK', 'geometry',\n",
       "       'is_in_need', 'DBH_TRUNK_Squared', 'DBH_TRUNK_Log', 'StreetName_Length',\n",
       "       'Address_Has_CrossStreet', 'Average_DBH_TRUNK_Per_Ward',\n",
       "       'Number_of_Trees_Per_Ward', 'Tree_Position_Indicator',\n",
       "       'DBH_TRUNK_X_Tree_Position'],\n",
       "      dtype='object')"
      ]
     },
     "execution_count": 26,
     "metadata": {},
     "output_type": "execute_result"
    }
   ],
   "source": [
    "tree.columns"
   ]
  },
  {
   "cell_type": "code",
   "execution_count": 27,
   "metadata": {},
   "outputs": [
    {
     "data": {
      "text/plain": [
       "(51156, 14)"
      ]
     },
     "execution_count": 27,
     "metadata": {},
     "output_type": "execute_result"
    }
   ],
   "source": [
    "tree_cleaned.shape"
   ]
  },
  {
   "cell_type": "code",
   "execution_count": 28,
   "metadata": {},
   "outputs": [
    {
     "name": "stderr",
     "output_type": "stream",
     "text": [
      "C:\\Users\\NIRUP\\AppData\\Local\\Temp\\ipykernel_13488\\1410200862.py:26: SettingWithCopyWarning:\n",
      "\n",
      "\n",
      "A value is trying to be set on a copy of a slice from a DataFrame.\n",
      "Try using .loc[row_indexer,col_indexer] = value instead\n",
      "\n",
      "See the caveats in the documentation: https://pandas.pydata.org/pandas-docs/stable/user_guide/indexing.html#returning-a-view-versus-a-copy\n",
      "\n",
      "C:\\Users\\NIRUP\\AppData\\Local\\Temp\\ipykernel_13488\\1410200862.py:30: SettingWithCopyWarning:\n",
      "\n",
      "\n",
      "A value is trying to be set on a copy of a slice from a DataFrame.\n",
      "Try using .loc[row_indexer,col_indexer] = value instead\n",
      "\n",
      "See the caveats in the documentation: https://pandas.pydata.org/pandas-docs/stable/user_guide/indexing.html#returning-a-view-versus-a-copy\n",
      "\n",
      "C:\\Users\\NIRUP\\AppData\\Local\\Temp\\ipykernel_13488\\1410200862.py:35: SettingWithCopyWarning:\n",
      "\n",
      "\n",
      "A value is trying to be set on a copy of a slice from a DataFrame.\n",
      "Try using .loc[row_indexer,col_indexer] = value instead\n",
      "\n",
      "See the caveats in the documentation: https://pandas.pydata.org/pandas-docs/stable/user_guide/indexing.html#returning-a-view-versus-a-copy\n",
      "\n",
      "C:\\Users\\NIRUP\\AppData\\Local\\Temp\\ipykernel_13488\\1410200862.py:35: SettingWithCopyWarning:\n",
      "\n",
      "\n",
      "A value is trying to be set on a copy of a slice from a DataFrame.\n",
      "Try using .loc[row_indexer,col_indexer] = value instead\n",
      "\n",
      "See the caveats in the documentation: https://pandas.pydata.org/pandas-docs/stable/user_guide/indexing.html#returning-a-view-versus-a-copy\n",
      "\n",
      "C:\\Users\\NIRUP\\AppData\\Local\\Temp\\ipykernel_13488\\1410200862.py:35: SettingWithCopyWarning:\n",
      "\n",
      "\n",
      "A value is trying to be set on a copy of a slice from a DataFrame.\n",
      "Try using .loc[row_indexer,col_indexer] = value instead\n",
      "\n",
      "See the caveats in the documentation: https://pandas.pydata.org/pandas-docs/stable/user_guide/indexing.html#returning-a-view-versus-a-copy\n",
      "\n",
      "C:\\Users\\NIRUP\\AppData\\Local\\Temp\\ipykernel_13488\\1410200862.py:35: SettingWithCopyWarning:\n",
      "\n",
      "\n",
      "A value is trying to be set on a copy of a slice from a DataFrame.\n",
      "Try using .loc[row_indexer,col_indexer] = value instead\n",
      "\n",
      "See the caveats in the documentation: https://pandas.pydata.org/pandas-docs/stable/user_guide/indexing.html#returning-a-view-versus-a-copy\n",
      "\n",
      "C:\\Users\\NIRUP\\AppData\\Local\\Temp\\ipykernel_13488\\1410200862.py:35: SettingWithCopyWarning:\n",
      "\n",
      "\n",
      "A value is trying to be set on a copy of a slice from a DataFrame.\n",
      "Try using .loc[row_indexer,col_indexer] = value instead\n",
      "\n",
      "See the caveats in the documentation: https://pandas.pydata.org/pandas-docs/stable/user_guide/indexing.html#returning-a-view-versus-a-copy\n",
      "\n",
      "C:\\Users\\NIRUP\\AppData\\Local\\Temp\\ipykernel_13488\\1410200862.py:35: SettingWithCopyWarning:\n",
      "\n",
      "\n",
      "A value is trying to be set on a copy of a slice from a DataFrame.\n",
      "Try using .loc[row_indexer,col_indexer] = value instead\n",
      "\n",
      "See the caveats in the documentation: https://pandas.pydata.org/pandas-docs/stable/user_guide/indexing.html#returning-a-view-versus-a-copy\n",
      "\n",
      "C:\\Users\\NIRUP\\AppData\\Local\\Temp\\ipykernel_13488\\1410200862.py:35: SettingWithCopyWarning:\n",
      "\n",
      "\n",
      "A value is trying to be set on a copy of a slice from a DataFrame.\n",
      "Try using .loc[row_indexer,col_indexer] = value instead\n",
      "\n",
      "See the caveats in the documentation: https://pandas.pydata.org/pandas-docs/stable/user_guide/indexing.html#returning-a-view-versus-a-copy\n",
      "\n",
      "C:\\Users\\NIRUP\\AppData\\Local\\Temp\\ipykernel_13488\\1410200862.py:35: SettingWithCopyWarning:\n",
      "\n",
      "\n",
      "A value is trying to be set on a copy of a slice from a DataFrame.\n",
      "Try using .loc[row_indexer,col_indexer] = value instead\n",
      "\n",
      "See the caveats in the documentation: https://pandas.pydata.org/pandas-docs/stable/user_guide/indexing.html#returning-a-view-versus-a-copy\n",
      "\n",
      "C:\\Users\\NIRUP\\AppData\\Roaming\\Python\\Python311\\site-packages\\sklearn\\linear_model\\_logistic.py:469: ConvergenceWarning:\n",
      "\n",
      "lbfgs failed to converge (status=1):\n",
      "STOP: TOTAL NO. of ITERATIONS REACHED LIMIT.\n",
      "\n",
      "Increase the number of iterations (max_iter) or scale the data as shown in:\n",
      "    https://scikit-learn.org/stable/modules/preprocessing.html\n",
      "Please also refer to the documentation for alternative solver options:\n",
      "    https://scikit-learn.org/stable/modules/linear_model.html#logistic-regression\n",
      "\n"
     ]
    },
    {
     "name": "stdout",
     "output_type": "stream",
     "text": [
      "Model: RandomForest\n",
      "              precision    recall  f1-score       support\n",
      "0              1.000000  0.999792  0.999896   4797.000000\n",
      "1              0.999875  1.000000  0.999937   7992.000000\n",
      "accuracy       0.999922  0.999922  0.999922      0.999922\n",
      "macro avg      0.999937  0.999896  0.999917  12789.000000\n",
      "weighted avg   0.999922  0.999922  0.999922  12789.000000\n",
      "\n",
      "\n",
      "Model: LogisticRegression\n",
      "              precision    recall  f1-score       support\n",
      "0              0.992133  0.998958  0.995533   4797.000000\n",
      "1              0.999372  0.995245  0.997304   7992.000000\n",
      "accuracy       0.996638  0.996638  0.996638      0.996638\n",
      "macro avg      0.995752  0.997101  0.996419  12789.000000\n",
      "weighted avg   0.996656  0.996638  0.996640  12789.000000\n",
      "\n",
      "\n",
      "Model: SVC\n",
      "              precision    recall  f1-score      support\n",
      "0              1.000000  0.388785  0.559892   4797.00000\n",
      "1              0.731600  1.000000  0.844999   7992.00000\n",
      "accuracy       0.770740  0.770740  0.770740      0.77074\n",
      "macro avg      0.865800  0.694392  0.702445  12789.00000\n",
      "weighted avg   0.832274  0.770740  0.738059  12789.00000\n",
      "\n",
      "\n",
      "Model: KNeighbors\n",
      "              precision    recall  f1-score      support\n",
      "0              0.939667  0.824682  0.878428   4797.00000\n",
      "1              0.901970  0.968218  0.933921   7992.00000\n",
      "accuracy       0.914380  0.914380  0.914380      0.91438\n",
      "macro avg      0.920819  0.896450  0.906174  12789.00000\n",
      "weighted avg   0.916110  0.914380  0.913106  12789.00000\n",
      "\n",
      "\n",
      "Model: DecisionTree\n",
      "              precision    recall  f1-score       support\n",
      "0              1.000000  0.999792  0.999896   4797.000000\n",
      "1              0.999875  1.000000  0.999937   7992.000000\n",
      "accuracy       0.999922  0.999922  0.999922      0.999922\n",
      "macro avg      0.999937  0.999896  0.999917  12789.000000\n",
      "weighted avg   0.999922  0.999922  0.999922  12789.000000\n",
      "\n",
      "\n"
     ]
    },
    {
     "data": {
      "image/png": "[encoded data removed]",
      "text/plain": [
       "<Figure size 1200x800 with 1 Axes>"
      ]
     },
     "metadata": {},
     "output_type": "display_data"
    },
    {
     "name": "stdout",
     "output_type": "stream",
     "text": [
      "INFO: Shap explainer type - <shap.explainers._tree.TreeExplainer object at 0x0000025D879CEAD0>\n"
     ]
    }
   ],
   "source": [
    "import pandas as pd\n",
    "import numpy as np\n",
    "import matplotlib.pyplot as plt\n",
    "from sklearn.impute import SimpleImputer\n",
    "from sklearn.ensemble import RandomForestClassifier\n",
    "from sklearn.linear_model import LogisticRegression\n",
    "from sklearn.svm import SVC\n",
    "from sklearn.neighbors import KNeighborsClassifier\n",
    "from sklearn.tree import DecisionTreeClassifier\n",
    "from sklearn.metrics import classification_report, accuracy_score\n",
    "from sklearn.model_selection import train_test_split\n",
    "from shapash.explainer.smart_explainer import SmartExplainer\n",
    "\n",
    "# Prepare your dataset\n",
    "target_column = 'is_in_need'\n",
    "features = [col for col in tree.columns if col not in [target_column, 'geometry']]  # Drop target and non-numeric columns\n",
    "X = tree[features]\n",
    "y = tree[target_column]\n",
    "\n",
    "# Identify numeric and categorical columns\n",
    "numeric_cols = X.select_dtypes(include=['number']).columns\n",
    "categorical_cols = X.select_dtypes(exclude=['number']).columns\n",
    "\n",
    "# Handle missing values for numeric columns\n",
    "numeric_imputer = SimpleImputer(strategy='median')\n",
    "X[numeric_cols] = numeric_imputer.fit_transform(X[numeric_cols])\n",
    "\n",
    "# Handle missing values for categorical columns\n",
    "categorical_imputer = SimpleImputer(strategy='most_frequent')\n",
    "X[categorical_cols] = categorical_imputer.fit_transform(X[categorical_cols])\n",
    "\n",
    "# Frequency encoding for categorical columns\n",
    "for col in categorical_cols:\n",
    "    freq = X[col].value_counts()\n",
    "    X[col] = X[col].map(freq)\n",
    "\n",
    "# Split the data\n",
    "X_train, X_test, y_train, y_test = train_test_split(X, y, test_size=0.25, random_state=42)\n",
    "\n",
    "# List of classifiers to test\n",
    "classifiers = {\n",
    "    'RandomForest': RandomForestClassifier(),\n",
    "    'LogisticRegression': LogisticRegression(max_iter=1000),\n",
    "    'SVC': SVC(),\n",
    "    'KNeighbors': KNeighborsClassifier(),\n",
    "    'DecisionTree': DecisionTreeClassifier()\n",
    "}\n",
    "\n",
    "# Dictionary to store classification reports and accuracy\n",
    "results = {}\n",
    "accuracies = []\n",
    "\n",
    "# Train and evaluate each classifier\n",
    "for name, clf in classifiers.items():\n",
    "    clf.fit(X_train, y_train)\n",
    "    predictions = clf.predict(X_test)\n",
    "    report = classification_report(y_test, predictions, output_dict=True)\n",
    "    accuracy = accuracy_score(y_test, predictions)\n",
    "    accuracies.append(accuracy)\n",
    "    results[name] = pd.DataFrame(report).transpose()\n",
    "\n",
    "# Display the reports in a table format\n",
    "for model_name, report_df in results.items():\n",
    "    print(f\"Model: {model_name}\")\n",
    "    print(report_df)\n",
    "    print(\"\\n\")\n",
    "\n",
    "# Plotting the results\n",
    "metrics = ['precision', 'recall', 'f1-score', 'support']\n",
    "avg_metrics = ['precision', 'recall', 'f1-score']\n",
    "\n",
    "# Prepare data for plotting\n",
    "plot_data = {metric: [] for metric in avg_metrics}\n",
    "plot_data['accuracy'] = accuracies\n",
    "\n",
    "for model_name in classifiers.keys():\n",
    "    for metric in avg_metrics:\n",
    "        plot_data[metric].append(results[model_name].loc['weighted avg'][metric])\n",
    "\n",
    "# Plot the results\n",
    "fig, ax = plt.subplots(figsize=(12, 8))\n",
    "x = np.arange(len(classifiers))\n",
    "width = 0.2\n",
    "\n",
    "# Plotting each metric\n",
    "rects1 = ax.bar(x - 1.5*width, plot_data['precision'], width, label='Precision')\n",
    "rects2 = ax.bar(x - 0.5*width, plot_data['recall'], width, label='Recall')\n",
    "rects3 = ax.bar(x + 0.5*width, plot_data['f1-score'], width, label='F1-Score')\n",
    "rects4 = ax.bar(x + 1.5*width, plot_data['accuracy'], width, label='Accuracy')\n",
    "\n",
    "# Add some text for labels, title and custom x-axis tick labels, etc.\n",
    "ax.set_ylabel('Scores')\n",
    "ax.set_title('Scores by model and metric')\n",
    "ax.set_xticks(x)\n",
    "ax.set_xticklabels(classifiers.keys())\n",
    "ax.legend()\n",
    "\n",
    "# Attach a text label above each bar in rects, displaying its height.\n",
    "def autolabel(rects):\n",
    "    for rect in rects:\n",
    "        height = rect.get_height()\n",
    "        ax.annotate(f'{height:.2f}',\n",
    "                    xy=(rect.get_x() + rect.get_width() / 2, height),\n",
    "                    xytext=(0, 3),  # 3 points vertical offset\n",
    "                    textcoords=\"offset points\",\n",
    "                    ha='center', va='bottom')\n",
    "\n",
    "autolabel(rects1)\n",
    "autolabel(rects2)\n",
    "autolabel(rects3)\n",
    "autolabel(rects4)\n",
    "\n",
    "fig.tight_layout()\n",
    "plt.show()\n",
    "\n",
    "# Choose a model for Shapash (e.g., RandomForestClassifier)\n",
    "model = RandomForestClassifier()\n",
    "model.fit(X_train, y_train)\n",
    "\n",
    "# Shapash explainer\n",
    "xpl = SmartExplainer(model=model)\n",
    "y_pred_series = pd.Series(model.predict(X_test), index=X_test.index)\n",
    "xpl.compile(x=X_test, y_pred=y_pred_series)\n",
    "\n",
    "# Plot feature importance\n",
    "xpl.plot.features_importance()\n",
    "\n",
    "# Plot contribution for each feature\n",
    "for col in X_test.columns:\n",
    "    xpl.plot.contribution_plot(col)"
   ]
  },
  {
   "cell_type": "code",
   "execution_count": 29,
   "metadata": {},
   "outputs": [
    {
     "name": "stderr",
     "output_type": "stream",
     "text": [
      "C:\\Users\\NIRUP\\AppData\\Local\\Temp\\ipykernel_13488\\1912560904.py:21: SettingWithCopyWarning:\n",
      "\n",
      "\n",
      "A value is trying to be set on a copy of a slice from a DataFrame.\n",
      "Try using .loc[row_indexer,col_indexer] = value instead\n",
      "\n",
      "See the caveats in the documentation: https://pandas.pydata.org/pandas-docs/stable/user_guide/indexing.html#returning-a-view-versus-a-copy\n",
      "\n",
      "C:\\Users\\NIRUP\\AppData\\Local\\Temp\\ipykernel_13488\\1912560904.py:25: SettingWithCopyWarning:\n",
      "\n",
      "\n",
      "A value is trying to be set on a copy of a slice from a DataFrame.\n",
      "Try using .loc[row_indexer,col_indexer] = value instead\n",
      "\n",
      "See the caveats in the documentation: https://pandas.pydata.org/pandas-docs/stable/user_guide/indexing.html#returning-a-view-versus-a-copy\n",
      "\n",
      "C:\\Users\\NIRUP\\AppData\\Local\\Temp\\ipykernel_13488\\1912560904.py:30: SettingWithCopyWarning:\n",
      "\n",
      "\n",
      "A value is trying to be set on a copy of a slice from a DataFrame.\n",
      "Try using .loc[row_indexer,col_indexer] = value instead\n",
      "\n",
      "See the caveats in the documentation: https://pandas.pydata.org/pandas-docs/stable/user_guide/indexing.html#returning-a-view-versus-a-copy\n",
      "\n",
      "C:\\Users\\NIRUP\\AppData\\Local\\Temp\\ipykernel_13488\\1912560904.py:30: SettingWithCopyWarning:\n",
      "\n",
      "\n",
      "A value is trying to be set on a copy of a slice from a DataFrame.\n",
      "Try using .loc[row_indexer,col_indexer] = value instead\n",
      "\n",
      "See the caveats in the documentation: https://pandas.pydata.org/pandas-docs/stable/user_guide/indexing.html#returning-a-view-versus-a-copy\n",
      "\n",
      "C:\\Users\\NIRUP\\AppData\\Local\\Temp\\ipykernel_13488\\1912560904.py:30: SettingWithCopyWarning:\n",
      "\n",
      "\n",
      "A value is trying to be set on a copy of a slice from a DataFrame.\n",
      "Try using .loc[row_indexer,col_indexer] = value instead\n",
      "\n",
      "See the caveats in the documentation: https://pandas.pydata.org/pandas-docs/stable/user_guide/indexing.html#returning-a-view-versus-a-copy\n",
      "\n",
      "C:\\Users\\NIRUP\\AppData\\Local\\Temp\\ipykernel_13488\\1912560904.py:30: SettingWithCopyWarning:\n",
      "\n",
      "\n",
      "A value is trying to be set on a copy of a slice from a DataFrame.\n",
      "Try using .loc[row_indexer,col_indexer] = value instead\n",
      "\n",
      "See the caveats in the documentation: https://pandas.pydata.org/pandas-docs/stable/user_guide/indexing.html#returning-a-view-versus-a-copy\n",
      "\n",
      "C:\\Users\\NIRUP\\AppData\\Local\\Temp\\ipykernel_13488\\1912560904.py:30: SettingWithCopyWarning:\n",
      "\n",
      "\n",
      "A value is trying to be set on a copy of a slice from a DataFrame.\n",
      "Try using .loc[row_indexer,col_indexer] = value instead\n",
      "\n",
      "See the caveats in the documentation: https://pandas.pydata.org/pandas-docs/stable/user_guide/indexing.html#returning-a-view-versus-a-copy\n",
      "\n",
      "C:\\Users\\NIRUP\\AppData\\Local\\Temp\\ipykernel_13488\\1912560904.py:30: SettingWithCopyWarning:\n",
      "\n",
      "\n",
      "A value is trying to be set on a copy of a slice from a DataFrame.\n",
      "Try using .loc[row_indexer,col_indexer] = value instead\n",
      "\n",
      "See the caveats in the documentation: https://pandas.pydata.org/pandas-docs/stable/user_guide/indexing.html#returning-a-view-versus-a-copy\n",
      "\n",
      "C:\\Users\\NIRUP\\AppData\\Local\\Temp\\ipykernel_13488\\1912560904.py:30: SettingWithCopyWarning:\n",
      "\n",
      "\n",
      "A value is trying to be set on a copy of a slice from a DataFrame.\n",
      "Try using .loc[row_indexer,col_indexer] = value instead\n",
      "\n",
      "See the caveats in the documentation: https://pandas.pydata.org/pandas-docs/stable/user_guide/indexing.html#returning-a-view-versus-a-copy\n",
      "\n",
      "C:\\Users\\NIRUP\\AppData\\Local\\Temp\\ipykernel_13488\\1912560904.py:30: SettingWithCopyWarning:\n",
      "\n",
      "\n",
      "A value is trying to be set on a copy of a slice from a DataFrame.\n",
      "Try using .loc[row_indexer,col_indexer] = value instead\n",
      "\n",
      "See the caveats in the documentation: https://pandas.pydata.org/pandas-docs/stable/user_guide/indexing.html#returning-a-view-versus-a-copy\n",
      "\n"
     ]
    },
    {
     "data": {
      "image/png": "[encoded data removed]",
      "text/plain": [
       "<Figure size 1200x800 with 1 Axes>"
      ]
     },
     "metadata": {},
     "output_type": "display_data"
    }
   ],
   "source": [
    "import pandas as pd\n",
    "import numpy as np\n",
    "import matplotlib.pyplot as plt\n",
    "from sklearn.impute import SimpleImputer\n",
    "from sklearn.ensemble import RandomForestClassifier\n",
    "from sklearn.model_selection import train_test_split\n",
    "\n",
    "# Assuming 'tree' is your DataFrame\n",
    "# Prepare your dataset\n",
    "target_column = 'is_in_need'\n",
    "features = [col for col in tree.columns if col not in [target_column, 'geometry', '_id']]  # Drop target, non-numeric columns, and unique ID\n",
    "X = tree[features]\n",
    "y = tree[target_column]\n",
    "\n",
    "# Identify numeric and categorical columns\n",
    "numeric_cols = X.select_dtypes(include=['number']).columns\n",
    "categorical_cols = X.select_dtypes(exclude=['number']).columns\n",
    "\n",
    "# Handle missing values for numeric columns\n",
    "numeric_imputer = SimpleImputer(strategy='median')\n",
    "X[numeric_cols] = numeric_imputer.fit_transform(X[numeric_cols])\n",
    "\n",
    "# Handle missing values for categorical columns\n",
    "categorical_imputer = SimpleImputer(strategy='most_frequent')\n",
    "X[categorical_cols] = categorical_imputer.fit_transform(X[categorical_cols])\n",
    "\n",
    "# Frequency encoding for categorical columns\n",
    "for col in categorical_cols:\n",
    "    freq = X[col].value_counts()\n",
    "    X[col] = X[col].map(freq)\n",
    "\n",
    "# Split the data\n",
    "X_train, X_test, y_train, y_test = train_test_split(X, y, test_size=0.3, random_state=42)\n",
    "\n",
    "# Train a RandomForestClassifier\n",
    "model = RandomForestClassifier()\n",
    "model.fit(X_train, y_train)\n",
    "\n",
    "# Get feature importances\n",
    "importances = model.feature_importances_\n",
    "feature_names = X.columns\n",
    "\n",
    "# Create a DataFrame for the feature importances\n",
    "importance_df = pd.DataFrame({\n",
    "    'Feature': feature_names,\n",
    "    'Importance': importances\n",
    "}).sort_values(by='Importance', ascending=False)\n",
    "\n",
    "# Plot the feature importances\n",
    "plt.figure(figsize=(12, 8))\n",
    "plt.barh(importance_df['Feature'], importance_df['Importance'])\n",
    "plt.xlabel('Feature Importance')\n",
    "plt.ylabel('Feature')\n",
    "plt.title('Feature Importance Plot')\n",
    "plt.gca().invert_yaxis()  # To display the highest importance at the top\n",
    "plt.show()"
   ]
  },
  {
   "cell_type": "code",
   "execution_count": 30,
   "metadata": {},
   "outputs": [
    {
     "name": "stdout",
     "output_type": "stream",
     "text": [
      "Model saved as random_forest_model.pkl\n"
     ]
    }
   ],
   "source": [
    "import joblib\n",
    "\n",
    "# Save the trained RandomForestClassifier model\n",
    "filename = 'random_forest_model.pkl' \n",
    "joblib.dump(model, filename)\n",
    "print(f\"Model saved as {filename}\")"
   ]
  },
  {
   "cell_type": "code",
   "execution_count": null,
   "metadata": {},
   "outputs": [],
   "source": []
  }
 ],
 "metadata": {
  "kernelspec": {
   "display_name": "Python 3",
   "language": "python",
   "name": "python3"
  },
  "language_info": {
   "codemirror_mode": {
    "name": "ipython",
    "version": 3
   },
   "file_extension": ".py",
   "mimetype": "text/x-python",
   "name": "python",
   "nbconvert_exporter": "python",
   "pygments_lexer": "ipython3",
   "version": "3.11.5"
  }
 },
 "nbformat": 4,
 "nbformat_minor": 2
}
